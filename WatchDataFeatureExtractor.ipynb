{
 "cells": [
  {
   "cell_type": "code",
   "execution_count": 93,
   "metadata": {},
   "outputs": [],
   "source": [
    "import os\n",
    "import time\n",
    "import numpy as np\n",
    "import pandas as pd\n",
    "import pywt\n",
    "import pathlib\n",
    "import pickle\n",
    "from itertools import product\n",
    "from scipy.stats import skew, kurtosis, entropy\n",
    "from scipy.signal import butter, welch, filtfilt, resample\n",
    "import math\n",
    "import nolds\n",
    "import matplotlib.pyplot as plt"
   ]
  },
  {
   "cell_type": "code",
   "execution_count": 6,
   "metadata": {},
   "outputs": [],
   "source": [
    "# set path to folder containing clinic watch data\n",
    "clinicpath = r'//FS2.smpp.local\\\\RTO\\\\CIS-PD Study\\MJFF Curation\\Finalized Dataset'\n",
    "# set path to folder containing home watch data\n",
    "homepath = r'//FS2.smpp.local\\\\RTO\\\\CIS-PD Study\\Patient Record Correlation'\n",
    "# set path to destination folder\n",
    "dest = r'//FS2.smpp.local\\\\RTO\\\\CIS-PD Study\\Watch Features Data'\n",
    "#---------------------------------------------------------------------------------------------------------"
   ]
  },
  {
   "cell_type": "code",
   "execution_count": null,
   "metadata": {},
   "outputs": [],
   "source": [
    "def power_spectra_welch(rawdata, fm, fM):\n",
    "    \n",
    "    # compute the power spectral density of the signal magnitude\n",
    "    x = rawdata.iloc[:, -1]\n",
    "    \n",
    "    # number of samples in the clip\n",
    "    n = len(x)\n",
    "    \n",
    "    # sampling rate of the clip\n",
    "    Fs = np.mean(1 / (np.diff(x.index) / 1000))\n",
    "    \n",
    "    # f: array of sample frequencies present in the signal\n",
    "    # Pxx: PSD of each sample frequency\n",
    "    f, Pxx_den = welch(x, Fs, nperseg = min(256, n))\n",
    "    \n",
    "    # isolate power spectral density of the desitred frequency range\n",
    "    inds = (f <= fM) & (f >= fm)\n",
    "    f = f[inds]\n",
    "    Pxx_den = Pxx_den[inds]\n",
    "    \n",
    "    Pxxdf = pd.DataFrame(data = Pxx_den, index = f, columns = ['PSD_magnitude'])\n",
    "    \n",
    "    return Pxxdf"
   ]
  },
  {
   "cell_type": "code",
   "execution_count": null,
   "metadata": {},
   "outputs": [],
   "source": [
    "def feature_extraction(data_clip):\n",
    "    \n",
    "    features_list = ['RMSX', 'RMSY', 'RMSZ', \n",
    "                     'rangeX', 'rangeY', 'rangeZ', \n",
    "                     'meanX', 'meanY', 'meanZ', \n",
    "                     'varX', 'varY', 'varZ', \n",
    "                     'skewX', 'skewY', 'skewZ', \n",
    "                     'kurtX', 'kurtY', 'kurtZ', \n",
    "                     'xcorr_peakXY', 'xcorr_peakXZ', 'xcorr_peakYZ', \n",
    "                     'xcorr_lagXY', 'xcorr_lagXZ', 'xcorr_lagYZ', \n",
    "                     'freq1', 'freq2', 'freq3', # added\n",
    "                     'P1_rel', 'P2_rel', 'P3_rel', # added\n",
    "                     'PSD_mean', 'PSD_std', 'PSD_skew', 'PSD_kur', \n",
    "                     'jerk_mean', 'jerk_std', 'jerk_skew', 'jerk_kur', \n",
    "                     'Sen_X', 'Sen_Y', 'Sen_Z', # not included in reduced features\n",
    "                     'RMS_mag', 'range_mag', 'mean_mag', 'var_mag', 'skew_mag', 'kurt_mag', 'Sen_mag'] # not included\n",
    "    \n",
    "    rawdata = data_clip\n",
    "    rawdata_wmag = rawdata.copy()\n",
    "    rawdata_wmag['Accel_Mag'] = np.sort((rawdata**2).sum(axis = 1))\n",
    "    \n",
    "    N = len(rawdata)\n",
    "    min_xyz = np.min(rawdata, axis = 0)\n",
    "    max_xyz = np.max(rawdata, axis = 0)\n",
    "    xcorr_xy = np.correlate(rawdata.iloc[:, 0], rawdata.iloc[:, 1], mode = 'same')\n",
    "    xcorr_xz = np.correlate(rawdata.iloc[:,0], rawdata.iloc[:, 2], mode = 'same')\n",
    "    xcorr_yz = np.correlate(rawdata.iloc[:, 1], rawdata.iloc[:, 2], mode = 'same')\n",
    "    Pxx = power_spectra_welch(rawdata_wmag, fm = 0, fM = 10)\n",
    "    sH_raw = []; sH_fft = []\n",
    "\n",
    "    \n",
    "    # RMSX, RMSY, RMSZ\n",
    "    # root mean square\n",
    "    RMS = 1 / N * np.sqrt(np.asarray(np.sum(rawdata**2, axis = 0)))\n",
    "    \n",
    "    # rangeX, rangeY, rangeZ\n",
    "    # range\n",
    "    r = np.asarray(max_xyz - min_xyz)\n",
    "    \n",
    "    # meanX, meanY, meanZ\n",
    "    # average\n",
    "    mean = np.asarray(np.mean(rawdata, axis = 0))\n",
    "\n",
    "    # varX, varY, varZ\n",
    "    # standard deviation\n",
    "    var = np.asarray(np.std(rawdata, axis = 0))\n",
    "\n",
    "    # skewX, skewY, skewZ\n",
    "    # skewness: measure of data symmetry\n",
    "    sk = skew(rawdata)\n",
    "    \n",
    "    # kurtX, kurtY, kurtZ\n",
    "    # kurtosis: measure of data tail weight compared to normal dist\n",
    "    kurt = kurtosis(rawdata)\n",
    "\n",
    "    # xcorr_peakXY, xcorr_peakXZ, xcorr_peakYZ\n",
    "    # max correlation between data of paired axes\n",
    "    xcorr_peak_xy = np.max(xcorr_xy)\n",
    "    xcorr_peak_xz = np.max(xcorr_xz)\n",
    "    xcorr_peak_yz = np.max(xcorr_yz)\n",
    "    xcorr_peak = np.array([xcorr_peak_xy, xcorr_peak_xz, xcorr_peak_yz])\n",
    "\n",
    "    # xcorr_lagXY, xcorr_lagXZ, xcorr_lagYZ\n",
    "    # relative location of max correlation between data of paired axes\n",
    "    xcorr_lag_xy = (np.argmax(xcorr_xy)) / len(xcorr_xy)\n",
    "    xcorr_lag_xz = (np.argmax(xcorr_xz)) / len(xcorr_xz)\n",
    "    xcorr_lag_yz = (np.argmax(xcorr_yz)) / len(xcorr_yz)\n",
    "    xcorr_lag = np.array([xcorr_lag_xy, xcorr_lag_xz, xcorr_lag_yz])\n",
    "\n",
    "    # freq1, freq2, freq3\n",
    "    # frequency with the highest power density\n",
    "    freq1 = Pxx.iloc[:, -1].index[-1]\n",
    "    freq2 = Pxx.iloc[:, -1].index[-2]\n",
    "    freq3 = Pxx.iloc[:, -1].index[-3]\n",
    "    domfreq = np.array([freq1, freq2, freq3])\n",
    "\n",
    "    # P1_rel, P2_rel, P3_rel\n",
    "    # relative power of the dominant frequency within the signal\n",
    "    P1_rel = Pxx.loc[freq1].values / Pxx.iloc[:, -1].sum()\n",
    "    P2_rel = Pxx.loc[freq2].values / Pxx.iloc[:, -1].sum()\n",
    "    P3_rel = Pxx.loc[freq3].values / Pxx.iloc[:, -1].sum()\n",
    "    Pdom_rel = np.concatenate((P1_rel, P2_rel, P3_rel))\n",
    "\n",
    "    # PDS_mean, PDS_std, PDS_skew, PDS_kur\n",
    "    # power spectral density summary stats\n",
    "    Pxx_moments = np.array([np.nanmean(Pxx.values), np.nanstd(Pxx.values), skew(Pxx.values), kurtosis(Pxx.values)])\n",
    "\n",
    "    # jerk_mean, jerk_std, jerk_skew, jerk_kur\n",
    "    jerk = rawdata_wmag['Accel_Mag'].diff().values\n",
    "    jerk_moments = np.array([np.nanmean(jerk), np.nanstd(jerk), skew(jerk[~np.isnan(jerk)]), kurtosis(jerk[~np.isnan(jerk)])])\n",
    "\n",
    "    # Sen_X, Sen_Y, Sen_Z\n",
    "    # sample entropy\n",
    "    for a in range(3):\n",
    "        x = rawdata.iloc[:, a]\n",
    "        n = len(x)\n",
    "        Fs = np.mean(1 / (np.diff(x.index) / 1000))\n",
    "        sH_raw.append(nolds.sampen(x))\n",
    "    \n",
    "    # features of the acceleration magnitude (as opposed to the axis values)\n",
    "    RMS_mag = 1 / N * np.sqrt(np.sum(rawdata_wmag['Accel_Mag']**2, axis = 0))\n",
    "    r_mag = np.max(rawdata_wmag['Accel_Mag']) - np.min(rawdata_wmag['Accel_Mag'])\n",
    "    mean_mag = np.mean(rawdata_wmag['Accel_Mag'])\n",
    "    var_mag = np.std(rawdata_wmag['Accel_Mag'])\n",
    "    sk_mag = skew(rawdata_wmag['Accel_Mag'])\n",
    "    kurt_mag = kurtosis(rawdata_wmag['Accel_Mag'])\n",
    "    sH_mag = nolds.sampen(rawdata_wmag['Accel_Mag'])\n",
    "    \n",
    "    Y = np.array([RMS_mag, r_mag, mean_mag, var_mag, sk_mag, kurt_mag, sH_mag])\n",
    "    X = np.concatenate((RMS, r, mean, var, sk, kurt, xcorr_peak, xcorr_lag, \n",
    "                        domfreq, Pdom_rel, Pxx_moments, jerk_moments, sH_raw, Y))\n",
    "    \n",
    "    return X"
   ]
  },
  {
   "cell_type": "code",
   "execution_count": 128,
   "metadata": {},
   "outputs": [
    {
     "name": "stdout",
     "output_type": "stream",
     "text": [
      "[0.5589646]\n"
     ]
    },
    {
     "data": {
      "text/plain": [
       "array([7.8125 , 3.90625, 0.     ])"
      ]
     },
     "execution_count": 128,
     "metadata": {},
     "output_type": "execute_result"
    },
    {
     "data": {
      "image/png": "[encoded data removed]",
      "text/plain": [
       "<Figure size 432x288 with 1 Axes>"
      ]
     },
     "metadata": {
      "needs_background": "light"
     },
     "output_type": "display_data"
    }
   ],
   "source": [
    "# visualize acceleratin\n",
    "\n",
    "file = '1032_2_RamR'\n",
    "\n",
    "data_clip = (pd.read_csv(os.path.join(clinicpath, 'Table8', 'TaskAcc', file + '.csv'), parse_dates = ['timestamp'])\n",
    "             [['timestamp', 'x', 'y', 'z']])\n",
    "data_clip.columns = ['Timestamp', 'X', 'Y', 'Z']\n",
    "\n",
    "rawdata = data_clip[['X', 'Y', 'Z']]\n",
    "rawdata_wmag = rawdata.copy()\n",
    "rawdata_wmag['Accel_Mag'] = np.sort((rawdata**2).sum(axis = 1))\n",
    "rawdata_wmag['Accel_Mag'] = (rawdata**2).sum(axis = 1)\n",
    "\n",
    "plt.plot(data_clip.Timestamp, rawdata_wmag.Accel_Mag)\n",
    "\n",
    "x = rawdata_wmag.iloc[:, -1]\n",
    "n = len(x)\n",
    "Fs = np.mean(1 / (np.diff(x.index) / 1000))\n",
    "f, Pxx_den = welch(x, Fs, nperseg = min(256, n))\n",
    "inds = (f <= 10) & (f >= 0)\n",
    "f = f[inds]\n",
    "Pxx_den = Pxx_den[inds]\n",
    "\n",
    "Pxxdf = pd.DataFrame(data = Pxx_den, index = f, columns = ['PSD_magnitude'])\n",
    "print(Pxxdf.loc[7.81250].values / Pxxdf.iloc[:, -1].sum())\n",
    "Pxxdf\n",
    "\n",
    "freq1 = Pxxdf.iloc[:, -1].index[-1]\n",
    "freq2 = Pxxdf.iloc[:, -1].index[-2]\n",
    "freq3 = Pxxdf.iloc[:, -1].index[-3]\n",
    "domfreq = np.array([freq1, freq2, freq3])\n",
    "domfreq"
   ]
  },
  {
   "cell_type": "code",
   "execution_count": 105,
   "metadata": {},
   "outputs": [
    {
     "data": {
      "text/html": [
       "<div>\n",
       "<style scoped>\n",
       "    .dataframe tbody tr th:only-of-type {\n",
       "        vertical-align: middle;\n",
       "    }\n",
       "\n",
       "    .dataframe tbody tr th {\n",
       "        vertical-align: top;\n",
       "    }\n",
       "\n",
       "    .dataframe thead th {\n",
       "        text-align: right;\n",
       "    }\n",
       "</style>\n",
       "<table border=\"1\" class=\"dataframe\">\n",
       "  <thead>\n",
       "    <tr style=\"text-align: right;\">\n",
       "      <th></th>\n",
       "      <th>PSD_magnitude</th>\n",
       "    </tr>\n",
       "  </thead>\n",
       "  <tbody>\n",
       "    <tr>\n",
       "      <th>0.00000</th>\n",
       "      <td>0.000011</td>\n",
       "    </tr>\n",
       "    <tr>\n",
       "      <th>3.90625</th>\n",
       "      <td>0.000045</td>\n",
       "    </tr>\n",
       "    <tr>\n",
       "      <th>7.81250</th>\n",
       "      <td>0.000060</td>\n",
       "    </tr>\n",
       "  </tbody>\n",
       "</table>\n",
       "</div>"
      ],
      "text/plain": [
       "         PSD_magnitude\n",
       "0.00000       0.000011\n",
       "3.90625       0.000045\n",
       "7.81250       0.000060"
      ]
     },
     "execution_count": 105,
     "metadata": {},
     "output_type": "execute_result"
    },
    {
     "data": {
      "image/png": "[encoded data removed]",
      "text/plain": [
       "<Figure size 1152x216 with 1 Axes>"
      ]
     },
     "metadata": {
      "needs_background": "light"
     },
     "output_type": "display_data"
    }
   ],
   "source": [
    "data_clip = (pd.read_csv(os.path.join(homepath, 'Symptom Reports', '1048', '2017-11', '05', '015645.csv'), \n",
    "                         parse_dates = ['Timestamp'])\n",
    "             [['Timestamp', 'X', 'Y', 'Z']])\n",
    "data_clip.columns = ['Timestamp', 'X', 'Y', 'Z']\n",
    "\n",
    "rawdata = data_clip[['X', 'Y', 'Z']]\n",
    "rawdata_wmag = rawdata.copy()\n",
    "rawdata_wmag['Accel_Mag'] = np.sort((rawdata**2).sum(axis = 1))\n",
    "rawdata_wmag['Accel_Mag'] = (rawdata**2).sum(axis = 1)\n",
    "\n",
    "plt.figure(figsize = (16, 3))\n",
    "plt.plot(data_clip.Timestamp, rawdata_wmag.Accel_Mag)\n",
    "\n",
    "x = rawdata_wmag.iloc[:, -1]\n",
    "n = len(x)\n",
    "Fs = np.mean(1 / (np.diff(x.index) / 1000))\n",
    "f, Pxx_den = welch(x, Fs, nperseg = min(256, n))\n",
    "inds = (f <= 10) & (f >= 0)\n",
    "f = f[inds]\n",
    "Pxx_den = Pxx_den[inds]\n",
    "\n",
    "Pxxdf = pd.DataFrame(data = Pxx_den, index = f, columns = ['PSD_magnitude'])\n",
    "Pxxdf"
   ]
  },
  {
   "cell_type": "code",
   "execution_count": null,
   "metadata": {},
   "outputs": [],
   "source": []
  }
 ],
 "metadata": {
  "kernelspec": {
   "display_name": "Python 3",
   "language": "python",
   "name": "python3"
  },
  "language_info": {
   "codemirror_mode": {
    "name": "ipython",
    "version": 3
   },
   "file_extension": ".py",
   "mimetype": "text/x-python",
   "name": "python",
   "nbconvert_exporter": "python",
   "pygments_lexer": "ipython3",
   "version": "3.7.3"
  }
 },
 "nbformat": 4,
 "nbformat_minor": 2
}
