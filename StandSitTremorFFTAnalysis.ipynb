{
 "cells": [
  {
   "cell_type": "code",
   "execution_count": 1,
   "metadata": {},
   "outputs": [],
   "source": [
    "import datetime\n",
    "from dateutil.parser import parse\n",
    "import itertools\n",
    "from itertools import product\n",
    "import math\n",
    "import matplotlib.pyplot as plt\n",
    "from multiprocessing.dummy import Pool as ThreadPool\n",
    "import nolds\n",
    "import numpy as np\n",
    "import os\n",
    "import pandas as pd\n",
    "import pathlib\n",
    "from PreprocessFcns import *\n",
    "import pywt\n",
    "import random\n",
    "import scipy\n",
    "from scipy.signal import butter, welch, filtfilt, resample\n",
    "from scipy.stats import skew, kurtosis, entropy, pearsonr\n",
    "import seaborn as sns\n",
    "import sklearn\n",
    "from sklearn import multiclass\n",
    "from sklearn import svm\n",
    "from sklearn.ensemble import RandomForestClassifier\n",
    "from sklearn.metrics import mean_squared_error, r2_score\n",
    "from sklearn.model_selection import LeaveOneGroupOut\n",
    "import time\n",
    "%matplotlib inline"
   ]
  },
  {
   "cell_type": "code",
   "execution_count": 5,
   "metadata": {},
   "outputs": [],
   "source": [
    "# set path to folder containing clinic watch data\n",
    "path = r'//FS2.smpp.local\\\\RTO\\\\CIS-PD Study\\MJFF Curation\\Finalized Dataset'\n",
    "# set path to destination folder\n",
    "dest = r'//FS2.smpp.local\\\\RTO\\\\CIS-PD Study\\Watch Features Data'\n",
    "#---------------------------------------------------------------------------------------------------------"
   ]
  },
  {
   "cell_type": "code",
   "execution_count": 3,
   "metadata": {},
   "outputs": [],
   "source": [
    "VisitNumber = {\n",
    "    '2 Weeks: Time 0'   : 0,\n",
    "    '2 Weeks: Time 30'  : 1,\n",
    "    '2 Weeks: Time 60'  : 2,\n",
    "    '2 Weeks: Time 90'  : 3,\n",
    "    '2 Weeks: Time 120' : 4,\n",
    "    '2 Weeks: Time 150' : 5,\n",
    "    '1 Month'           : 6\n",
    "}\n",
    "\n",
    "ClinicTasks = {\n",
    "    'Stndg'    : 'Standing',\n",
    "    'Wlkg'     : 'Walking',\n",
    "    'WlkgCnt'  : 'Walking while counting',\n",
    "    'FtnR'     : 'Finger to nose--right hand',\n",
    "    'FtnL'     : 'Finger to nose--left hand',\n",
    "    'RamR'     : 'Alternating right hand movements',\n",
    "    'RamL'     : 'Alternating left hand movements',\n",
    "    'SitStand' : 'Sit to stand',\n",
    "    'Drwg'     : 'Drawing on a paper',\n",
    "    'Typg'     : 'Typing on a computer keyboard',\n",
    "    'NtsBts'   : 'Assembling nuts and bolts',\n",
    "    'Drnkg'    : 'Taking a glass of water and drinking',\n",
    "    'Sheets'   : 'Organizing sheets in a folder',\n",
    "    'Fldg'     : 'Folding towels',\n",
    "    'Sitng'    : 'Sitting'\n",
    "}"
   ]
  },
  {
   "cell_type": "code",
   "execution_count": 34,
   "metadata": {},
   "outputs": [
    {
     "name": "stdout",
     "output_type": "stream",
     "text": [
      "   SubjID  Visit TaskAbb  Clip  Tremor  Bradykinesia  Dyskinesia  Overall  \\\n",
      "0    1003      0   Drnkg     0     1.0           1.0         0.0      1.0   \n",
      "\n",
      "        0-2  2-4           4-6  6-8          8-10  10-12     12-14  14-16  \\\n",
      "0  0.000002  NaN  4.340081e-07  NaN  8.791187e-07    NaN  0.000001    NaN   \n",
      "\n",
      "     16-18  18-20  \n",
      "0  0.00002    NaN  \n"
     ]
    }
   ],
   "source": [
    "ClipData = pd.read_csv(os.path.join(dest, 'Clinic Data', 'ClinicDataFeaturesX.csv'))[['SubjID', 'Visit', 'TaskAbb', 'Clip', \n",
    "                                                                                      'Tremor', 'Bradykinesia', 'Dyskinesia', \n",
    "                                                                                      'Overall']]\n",
    "\n",
    "ClipFreqData = pd.DataFrame()\n",
    "for clip in ClipData.iterrows():\n",
    "    clipacc = pd.read_csv(os.path.join(dest, 'Clinic Data', 'Feature Clips', \n",
    "                                       str(int(clip[1]['SubjID'])) + '_' + str(clip[1]['Visit']) + '_' + \n",
    "                                       clip[1]['TaskAbb'] + '_' + str(clip[1]['Clip']) + '.csv'), \n",
    "                          parse_dates = ['Timestamp'])\n",
    "    ClipFreqData['SubjID'] = [int(clip[1]['SubjID'])]\n",
    "    ClipFreqData['Visit'] = [clip[1]['Visit']]\n",
    "    ClipFreqData['TaskAbb'] = [clip[1]['TaskAbb']]\n",
    "    ClipFreqData['Clip'] = [clip[1]['Clip']]\n",
    "    ClipFreqData['Tremor'] = [clip[1]['Tremor']]\n",
    "    ClipFreqData['Bradykinesia'] = [clip[1]['Bradykinesia']]\n",
    "    ClipFreqData['Dyskinesia'] = [clip[1]['Dyskinesia']]\n",
    "    ClipFreqData['Overall'] = [clip[1]['Overall']]\n",
    "    ClipFreqData['0-2'] = [np.mean(power_spectra_welch(clipacc, 0, 2)['PSD_magnitude'].values)]\n",
    "    ClipFreqData['2-4'] = [np.mean(power_spectra_welch(clipacc, 2, 4)['PSD_magnitude'].values)]\n",
    "    ClipFreqData['4-6'] = [np.mean(power_spectra_welch(clipacc, 4, 6)['PSD_magnitude'].values)]\n",
    "    ClipFreqData['6-8'] = [np.mean(power_spectra_welch(clipacc, 6, 8)['PSD_magnitude'].values)]\n",
    "    ClipFreqData['8-10'] = [np.mean(power_spectra_welch(clipacc, 8, 10)['PSD_magnitude'].values)]\n",
    "    ClipFreqData['10-12'] = [np.mean(power_spectra_welch(clipacc, 10, 12)['PSD_magnitude'].values)]\n",
    "    ClipFreqData['12-14'] = [np.mean(power_spectra_welch(clipacc, 12, 14)['PSD_magnitude'].values)]\n",
    "    ClipFreqData['14-16'] = [np.mean(power_spectra_welch(clipacc, 14, 16)['PSD_magnitude'].values)]\n",
    "    ClipFreqData['16-18'] = [np.mean(power_spectra_welch(clipacc, 16, 18)['PSD_magnitude'].values)]\n",
    "    ClipFreqData['18-20'] = [np.mean(power_spectra_welch(clipacc, 18, 20)['PSD_magnitude'].values)]\n",
    "    print(ClipFreqData)\n",
    "    break"
   ]
  },
  {
   "cell_type": "code",
   "execution_count": 32,
   "metadata": {},
   "outputs": [
    {
     "name": "stderr",
     "output_type": "stream",
     "text": [
      "C:\\Users\\rpieper\\AppData\\Local\\Continuum\\anaconda3\\lib\\site-packages\\numpy\\core\\fromnumeric.py:3118: RuntimeWarning: Mean of empty slice.\n",
      "  out=out, **kwargs)\n",
      "C:\\Users\\rpieper\\AppData\\Local\\Continuum\\anaconda3\\lib\\site-packages\\numpy\\core\\_methods.py:85: RuntimeWarning: invalid value encountered in double_scalars\n",
      "  ret = ret.dtype.type(ret / rcount)\n"
     ]
    },
    {
     "data": {
      "text/plain": [
       "nan"
      ]
     },
     "execution_count": 32,
     "metadata": {},
     "output_type": "execute_result"
    }
   ],
   "source": [
    "np.mean(power_spectra_welch(pd.read_csv(os.path.join(dest, 'Clinic Data', 'Feature Clips', '1003_0_Drnkg_0.csv')), 2, 4)['PSD_magnitude'].values)"
   ]
  }
 ],
 "metadata": {
  "kernelspec": {
   "display_name": "Python 3",
   "language": "python",
   "name": "python3"
  },
  "language_info": {
   "codemirror_mode": {
    "name": "ipython",
    "version": 3
   },
   "file_extension": ".py",
   "mimetype": "text/x-python",
   "name": "python",
   "nbconvert_exporter": "python",
   "pygments_lexer": "ipython3",
   "version": "3.7.3"
  }
 },
 "nbformat": 4,
 "nbformat_minor": 2
}
