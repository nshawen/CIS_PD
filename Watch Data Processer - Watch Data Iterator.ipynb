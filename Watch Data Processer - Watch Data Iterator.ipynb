{
 "cells": [
  {
   "cell_type": "code",
   "execution_count": null,
   "metadata": {},
   "outputs": [],
   "source": [
    "import os\n",
    "import numpy as np\n",
    "import pandas as pd\n",
    "import matplotlib.pyplot as plt\n",
    "import pathlib\n",
    "import pickle\n",
    "from scipy.stats import skew, kurtosis, pearsonr\n",
    "from scipy.signal import butter, welch, filtfilt, resample\n",
    "import copy\n",
    "import time\n",
    "import datetime\n",
    "from multiprocessing.dummy import Pool as ThreadPool\n",
    "from PreprocessFcns import *\n",
    "\n",
    "%matplotlib inline"
   ]
  },
  {
   "cell_type": "code",
   "execution_count": null,
   "metadata": {},
   "outputs": [],
   "source": [
    "# Set path to folder containing Subject Records\n",
    "path = r'//FS2.smpp.local\\\\RTO\\\\CIS-PD Study\\MJFF Curation\\Finalized Dataset'\n",
    "# Set path to Destination Folder\n",
    "dest = r'//FS2.smpp.local\\\\RTO\\\\CIS-PD Study\\Patient Record Correlation'\n",
    "#---------------------------------------------------------------------------------------------------------"
   ]
  },
  {
   "cell_type": "code",
   "execution_count": null,
   "metadata": {},
   "outputs": [],
   "source": [
    "# Medication Reports\n",
    "table_med = 'Table10.csv'\n",
    "dest_ext_med = 'Medication Reports'\n",
    "file_name_med = 'med_timepoints.csv'\n",
    "\n",
    "# Symptom Reports\n",
    "table_symt = 'Table11.csv'\n",
    "dest_ext_symt = 'Symptom Reports'\n",
    "file_name_symt = 'symt_timepoints.csv'\n",
    "\n",
    "# Diaries\n",
    "table_diar = 'Table12.csv'\n",
    "dest_ext_diar = 'Diaries'\n",
    "file_name_diar = 'diar_timepoints.csv'"
   ]
  },
  {
   "cell_type": "code",
   "execution_count": null,
   "metadata": {},
   "outputs": [],
   "source": [
    "### PROCESSER TO ITERATE THROUGH EACH WATCH DATA FILE AND BIN DATA POINT TO RELEVANT RECORDS\n",
    "\n",
    "# Load Consolidated DataFrames\n",
    "timepoints_med = pd.read_csv(os.path.join(dest, dest_ext_med, file_name_med))\n",
    "timepoints_symt = pd.read_csv(os.path.join(dest, dest_ext_symt, file_name_symt))\n",
    "timepoints_diar = pd.read_csv(os.path.join(dest, dest_ext_diar, file_name_diar))\n",
    "\n",
    "# Group Record Types to Go Over All at Once\n",
    "records = [timepoints_med, timepoints_symt, timepoints_diar]\n",
    "\n",
    "# Create List of the Watch Data Files in the Table8 Directory (not including the subdirectory)\n",
    "watch_dir = [f for f in os.listdir(os.path.join(path, 'Table8')) if os.path.isfile(os.path.join(path, 'Table8', f))]\n",
    "\n",
    "#Create a DataFrame for Each Record TimeStamp? - So Each Watch Data Point can be Binned while Iterating if Necessary?\n",
    "for record in records:\n",
    "    for entry in range(len(record)):\n",
    "        entry_watch = pd.DataFrame(columns = ['SubjID', 'Timestamp', 'X', 'Y', 'Z'])\n",
    "        entry_watch.to_csv(os.path.join(dest, dest_ext, str(record.loc[entry, 'SubjID']) + ' ' + \n",
    "                                        str(record.loc[entry, 'Timestamp'])[:13] + str(record.loc[entry, 'Timestamp'])[14:16] +\n",
    "                                        str(record.loc[entry, 'Timestamp'])[17:] + '.csv'), index = False)\n",
    "\n",
    "for file in watch_dir:\n",
    "    \n",
    "    # Read Watch Acc File in Chunks\n",
    "    watch_file_chunk = pd.read_csv(os.path.join(path, 'Table8', file), chunksize = 100000)\n",
    "    \n",
    "    # Sequential Indices\n",
    "    i = 0\n",
    "    # Changing Index of Chunk\n",
    "    c = 0\n",
    "    \n",
    "    # Look at One Chunk at a Time\n",
    "    for chunk in watch_file_chunk:\n",
    "        \n",
    "        for acc in range(len(chunk)):\n",
    "            \n",
    "            for record in records:\n",
    "                \n",
    "                if record == timepoints_med:\n",
    "                    \n",
    "                    # Iterate Through Medication Records\n",
    "                    for entry in range(len(record)):\n",
    "                    \n",
    "                        if (pd.Timestamp(chunk.loc[c+acc, 'Timestamp']) >= pd.Timestamp(record.loc[entry, 'Timestamp']) + \n",
    "                            pd.Timedelta('-30 min') and pd.Timestamp(chunk.loc[c+acc, 'Timestamp']) <= \n",
    "                            pd.Timestamp(record.loc[entry, 'Timestamp']) + pd.Timedelta('30 min')):\n",
    "            \n",
    "                else:\n",
    "                    \n",
    "                    # Iterate Through Medication Records\n",
    "                    for entry in range(len(record)):\n",
    "                \n",
    "                        if (pd.Timestamp(chunk.loc[c+acc, 'Timestamp']) >= pd.Timestamp(record.loc[entry, 'Timestamp']) + \n",
    "                            pd.Timedelta('-30 min') and pd.Timestamp(chunk.loc[c+acc, 'Timestamp']) <= \n",
    "                            pd.Timestamp(record.loc[entry, 'Timestamp'])):"
   ]
  }
 ],
 "metadata": {
  "kernelspec": {
   "display_name": "Python 3",
   "language": "python",
   "name": "python3"
  },
  "language_info": {
   "codemirror_mode": {
    "name": "ipython",
    "version": 3
   },
   "file_extension": ".py",
   "mimetype": "text/x-python",
   "name": "python",
   "nbconvert_exporter": "python",
   "pygments_lexer": "ipython3",
   "version": "3.7.3"
  }
 },
 "nbformat": 4,
 "nbformat_minor": 2
}
